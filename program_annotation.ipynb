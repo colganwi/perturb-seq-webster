{
 "cells": [
  {
   "attachments": {},
   "cell_type": "markdown",
   "metadata": {},
   "source": [
    "# Program Annotation\n",
    "\n",
    "William Colgan May 15 2023\n",
    "\n",
    "### Setup"
   ]
  },
  {
   "cell_type": "code",
   "execution_count": 33,
   "metadata": {
    "vscode": {
     "languageId": "r"
    }
   },
   "outputs": [],
   "source": [
    "library(useful)\n",
    "library(tidyverse)\n",
    "library(magrittr)\n",
    "library(pheatmap)\n",
    "library(gprofiler2)"
   ]
  },
  {
   "attachments": {},
   "cell_type": "markdown",
   "metadata": {},
   "source": [
    "### Load data"
   ]
  },
  {
   "cell_type": "code",
   "execution_count": 41,
   "metadata": {
    "vscode": {
     "languageId": "r"
    }
   },
   "outputs": [
    {
     "name": "stderr",
     "output_type": "stream",
     "text": [
      "\u001b[1mRows: \u001b[22m\u001b[34m1946\u001b[39m \u001b[1mColumns: \u001b[22m\u001b[34m17\u001b[39m\n",
      "\u001b[36m--\u001b[39m \u001b[1mColumn specification\u001b[22m \u001b[36m--------------------------------------------------------\u001b[39m\n",
      "\u001b[1mDelimiter:\u001b[22m \",\"\n",
      "\u001b[31mchr\u001b[39m  (1): gene_transcript\n",
      "\u001b[32mdbl\u001b[39m (15): UMI_count_unfiltered, num_cells_unfiltered, num_cells_filtered, co...\n",
      "\u001b[33mlgl\u001b[39m  (1): core_control\n",
      "\n",
      "\u001b[36mi\u001b[39m Use `spec()` to retrieve the full column specification for this data.\n",
      "\u001b[36mi\u001b[39m Specify the column types or set `show_col_types = FALSE` to quiet this message.\n",
      "\u001b[1mRows: \u001b[22m\u001b[34m3384\u001b[39m \u001b[1mColumns: \u001b[22m\u001b[34m10\u001b[39m\n",
      "\u001b[36m--\u001b[39m \u001b[1mColumn specification\u001b[22m \u001b[36m--------------------------------------------------------\u001b[39m\n",
      "\u001b[1mDelimiter:\u001b[22m \",\"\n",
      "\u001b[31mchr\u001b[39m (2): gene_id, gene_name\n",
      "\u001b[32mdbl\u001b[39m (7): mean, std, cv, gini, clean_mean, clean_std, clean_cv\n",
      "\u001b[33mlgl\u001b[39m (1): in_matrix\n",
      "\n",
      "\u001b[36mi\u001b[39m Use `spec()` to retrieve the full column specification for this data.\n",
      "\u001b[36mi\u001b[39m Specify the column types or set `show_col_types = FALSE` to quiet this message.\n",
      "\u001b[1mRows: \u001b[22m\u001b[34m1946\u001b[39m \u001b[1mColumns: \u001b[22m\u001b[34m3384\u001b[39m\n",
      "\u001b[36m--\u001b[39m \u001b[1mColumn specification\u001b[22m \u001b[36m--------------------------------------------------------\u001b[39m\n",
      "\u001b[1mDelimiter:\u001b[22m \",\"\n",
      "\u001b[32mdbl\u001b[39m (3384): X1, X2, X3, X4, X5, X6, X7, X8, X9, X10, X11, X12, X13, X14, X15...\n",
      "\n",
      "\u001b[36mi\u001b[39m Use `spec()` to retrieve the full column specification for this data.\n",
      "\u001b[36mi\u001b[39m Specify the column types or set `show_col_types = FALSE` to quiet this message.\n"
     ]
    }
   ],
   "source": [
    "obs = read_csv(\"./data/K562_gwps_obs.csv\")\n",
    "var = read_csv(\"./data/K562_gwps_var.csv\")\n",
    "mat = read_csv(\"./data/K562_gwps_norm.csv\",col_names = F)\n",
    "mat <- mat %>% as.matrix()\n",
    "colnames(mat) <- var$gene_name\n",
    "rownames(mat) <- obs$gene_transcript %>% word(2,2,sep = \"_\")\n",
    "mat = t(mat)\n",
    "mat[mat > 5]  <-  5\n",
    "mat[mat < -5]  <-  -5\n",
    "temp  <- R.matlab::readMat(\"./output/interim/gwps-K=80-T=4.mat\")\n",
    "dict <- as.matrix(temp$D)\n",
    "loading  <- as.matrix(temp$X)\n",
    "colnames(loading)  <- colnames(mat)\n",
    "#rownames(dict) <- rownames(mat)\n",
    "rownames(dict)  <-  var$gene_id\n",
    "names  <- c()\n",
    "for (i in 1:nrow(loading)) {\n",
    "  names  %<>% append(c(paste0(\"P\",i)))\n",
    "}\n",
    "rownames(loading)  <- names\n",
    "colnames(dict) <- names"
   ]
  },
  {
   "cell_type": "code",
   "execution_count": 97,
   "metadata": {
    "vscode": {
     "languageId": "r"
    }
   },
   "outputs": [
    {
     "data": {
      "text/html": [
       "<style>\n",
       ".dl-inline {width: auto; margin:0; padding: 0}\n",
       ".dl-inline>dt, .dl-inline>dd {float: none; width: auto; display: inline-block}\n",
       ".dl-inline>dt::after {content: \":\\0020\"; padding-right: .5ex}\n",
       ".dl-inline>dt:not(:first-of-type) {padding-left: .5ex}\n",
       "</style><dl class=dl-inline><dt>ENSG00000135404</dt><dd>2.20057851900763</dd><dt>ENSG00000268621</dt><dd>2.20702190000798</dd><dt>ENSG00000158578</dt><dd>2.24776618590746</dd><dt>ENSG00000251562</dt><dd>2.27608918423986</dd><dt>ENSG00000167996</dt><dd>2.65012300230952</dd><dt>ENSG00000186652</dt><dd>3.78659107015185</dd></dl>\n"
      ],
      "text/latex": [
       "\\begin{description*}\n",
       "\\item[ENSG00000135404] 2.20057851900763\n",
       "\\item[ENSG00000268621] 2.20702190000798\n",
       "\\item[ENSG00000158578] 2.24776618590746\n",
       "\\item[ENSG00000251562] 2.27608918423986\n",
       "\\item[ENSG00000167996] 2.65012300230952\n",
       "\\item[ENSG00000186652] 3.78659107015185\n",
       "\\end{description*}\n"
      ],
      "text/markdown": [
       "ENSG00000135404\n",
       ":   2.20057851900763ENSG00000268621\n",
       ":   2.20702190000798ENSG00000158578\n",
       ":   2.24776618590746ENSG00000251562\n",
       ":   2.27608918423986ENSG00000167996\n",
       ":   2.65012300230952ENSG00000186652\n",
       ":   3.78659107015185\n",
       "\n"
      ],
      "text/plain": [
       "ENSG00000135404 ENSG00000268621 ENSG00000158578 ENSG00000251562 ENSG00000167996 \n",
       "       2.200579        2.207022        2.247766        2.276089        2.650123 \n",
       "ENSG00000186652 \n",
       "       3.786591 "
      ]
     },
     "metadata": {},
     "output_type": "display_data"
    }
   ],
   "source": [
    "dict  %>% rowSums()  %>% sort()  %>% tail()"
   ]
  },
  {
   "cell_type": "code",
   "execution_count": 50,
   "metadata": {
    "vscode": {
     "languageId": "r"
    }
   },
   "outputs": [
    {
     "data": {
      "text/html": [
       "<style>\n",
       ".dl-inline {width: auto; margin:0; padding: 0}\n",
       ".dl-inline>dt, .dl-inline>dd {float: none; width: auto; display: inline-block}\n",
       ".dl-inline>dt::after {content: \":\\0020\"; padding-right: .5ex}\n",
       ".dl-inline>dt:not(:first-of-type) {padding-left: .5ex}\n",
       "</style><dl class=dl-inline><dt>ENSG00000215021</dt><dd>-0.099623908698922</dd><dt>ENSG00000123349</dt><dd>-0.0682315119658392</dd><dt>ENSG00000130208</dt><dd>-0.0648840053549362</dd><dt>ENSG00000137309</dt><dd>-0.0586498121211847</dd><dt>ENSG00000174444</dt><dd>-0.0574523658828404</dd><dt>ENSG00000136518</dt><dd>-0.0568044359911895</dd><dt>ENSG00000079246</dt><dd>-0.0562864151712817</dd><dt>ENSG00000131475</dt><dd>-0.0540958029308717</dd><dt>ENSG00000130203</dt><dd>-0.0537921020761945</dd><dt>ENSG00000026025</dt><dd>-0.0522204921684195</dd></dl>\n"
      ],
      "text/latex": [
       "\\begin{description*}\n",
       "\\item[ENSG00000215021] -0.099623908698922\n",
       "\\item[ENSG00000123349] -0.0682315119658392\n",
       "\\item[ENSG00000130208] -0.0648840053549362\n",
       "\\item[ENSG00000137309] -0.0586498121211847\n",
       "\\item[ENSG00000174444] -0.0574523658828404\n",
       "\\item[ENSG00000136518] -0.0568044359911895\n",
       "\\item[ENSG00000079246] -0.0562864151712817\n",
       "\\item[ENSG00000131475] -0.0540958029308717\n",
       "\\item[ENSG00000130203] -0.0537921020761945\n",
       "\\item[ENSG00000026025] -0.0522204921684195\n",
       "\\end{description*}\n"
      ],
      "text/markdown": [
       "ENSG00000215021\n",
       ":   -0.099623908698922ENSG00000123349\n",
       ":   -0.0682315119658392ENSG00000130208\n",
       ":   -0.0648840053549362ENSG00000137309\n",
       ":   -0.0586498121211847ENSG00000174444\n",
       ":   -0.0574523658828404ENSG00000136518\n",
       ":   -0.0568044359911895ENSG00000079246\n",
       ":   -0.0562864151712817ENSG00000131475\n",
       ":   -0.0540958029308717ENSG00000130203\n",
       ":   -0.0537921020761945ENSG00000026025\n",
       ":   -0.0522204921684195\n",
       "\n"
      ],
      "text/plain": [
       "ENSG00000215021 ENSG00000123349 ENSG00000130208 ENSG00000137309 ENSG00000174444 \n",
       "    -0.09962391     -0.06823151     -0.06488401     -0.05864981     -0.05745237 \n",
       "ENSG00000136518 ENSG00000079246 ENSG00000131475 ENSG00000130203 ENSG00000026025 \n",
       "    -0.05680444     -0.05628642     -0.05409580     -0.05379210     -0.05222049 "
      ]
     },
     "metadata": {},
     "output_type": "display_data"
    }
   ],
   "source": [
    "dict[,4] %>% sort() %>% head(10)"
   ]
  },
  {
   "cell_type": "code",
   "execution_count": 59,
   "metadata": {
    "vscode": {
     "languageId": "r"
    }
   },
   "outputs": [
    {
     "data": {
      "text/html": [
       "<style>\n",
       ".dl-inline {width: auto; margin:0; padding: 0}\n",
       ".dl-inline>dt, .dl-inline>dd {float: none; width: auto; display: inline-block}\n",
       ".dl-inline>dt::after {content: \":\\0020\"; padding-right: .5ex}\n",
       ".dl-inline>dt:not(:first-of-type) {padding-left: .5ex}\n",
       "</style><dl class=dl-inline><dt>ENSG00000089157</dt><dd>-0.0976205929611998</dd><dt>ENSG00000112306</dt><dd>-0.0956567227673672</dd><dt>ENSG00000170889</dt><dd>-0.0796009212404797</dd><dt>ENSG00000181163</dt><dd>-0.0795628754059989</dd><dt>ENSG00000108107</dt><dd>-0.0789653457487361</dd><dt>ENSG00000156508</dt><dd>-0.078063200434509</dd><dt>ENSG00000175061</dt><dd>-0.0769172859395797</dd><dt>ENSG00000203875</dt><dd>-0.0709222849775926</dd><dt>ENSG00000137818</dt><dd>-0.068075012928099</dd><dt>ENSG00000168028</dt><dd>-0.0678618953431869</dd></dl>\n"
      ],
      "text/latex": [
       "\\begin{description*}\n",
       "\\item[ENSG00000089157] -0.0976205929611998\n",
       "\\item[ENSG00000112306] -0.0956567227673672\n",
       "\\item[ENSG00000170889] -0.0796009212404797\n",
       "\\item[ENSG00000181163] -0.0795628754059989\n",
       "\\item[ENSG00000108107] -0.0789653457487361\n",
       "\\item[ENSG00000156508] -0.078063200434509\n",
       "\\item[ENSG00000175061] -0.0769172859395797\n",
       "\\item[ENSG00000203875] -0.0709222849775926\n",
       "\\item[ENSG00000137818] -0.068075012928099\n",
       "\\item[ENSG00000168028] -0.0678618953431869\n",
       "\\end{description*}\n"
      ],
      "text/markdown": [
       "ENSG00000089157\n",
       ":   -0.0976205929611998ENSG00000112306\n",
       ":   -0.0956567227673672ENSG00000170889\n",
       ":   -0.0796009212404797ENSG00000181163\n",
       ":   -0.0795628754059989ENSG00000108107\n",
       ":   -0.0789653457487361ENSG00000156508\n",
       ":   -0.078063200434509ENSG00000175061\n",
       ":   -0.0769172859395797ENSG00000203875\n",
       ":   -0.0709222849775926ENSG00000137818\n",
       ":   -0.068075012928099ENSG00000168028\n",
       ":   -0.0678618953431869\n",
       "\n"
      ],
      "text/plain": [
       "ENSG00000089157 ENSG00000112306 ENSG00000170889 ENSG00000181163 ENSG00000108107 \n",
       "    -0.09762059     -0.09565672     -0.07960092     -0.07956288     -0.07896535 \n",
       "ENSG00000156508 ENSG00000175061 ENSG00000203875 ENSG00000137818 ENSG00000168028 \n",
       "    -0.07806320     -0.07691729     -0.07092228     -0.06807501     -0.06786190 "
      ]
     },
     "metadata": {},
     "output_type": "display_data"
    }
   ],
   "source": [
    "dict[,10] %>% sort() %>% head(10)"
   ]
  },
  {
   "cell_type": "code",
   "execution_count": 133,
   "metadata": {
    "vscode": {
     "languageId": "r"
    }
   },
   "outputs": [],
   "source": []
  },
  {
   "cell_type": "code",
   "execution_count": 143,
   "metadata": {
    "vscode": {
     "languageId": "r"
    }
   },
   "outputs": [
    {
     "data": {
      "text/html": [
       "<table class=\"dataframe\">\n",
       "<caption>A data.frame: 10 × 14</caption>\n",
       "<thead>\n",
       "\t<tr><th></th><th scope=col>query</th><th scope=col>significant</th><th scope=col>p_value</th><th scope=col>term_size</th><th scope=col>query_size</th><th scope=col>intersection_size</th><th scope=col>precision</th><th scope=col>recall</th><th scope=col>term_id</th><th scope=col>source</th><th scope=col>term_name</th><th scope=col>effective_domain_size</th><th scope=col>source_order</th><th scope=col>parents</th></tr>\n",
       "\t<tr><th></th><th scope=col>&lt;chr&gt;</th><th scope=col>&lt;lgl&gt;</th><th scope=col>&lt;dbl&gt;</th><th scope=col>&lt;int&gt;</th><th scope=col>&lt;int&gt;</th><th scope=col>&lt;int&gt;</th><th scope=col>&lt;dbl&gt;</th><th scope=col>&lt;dbl&gt;</th><th scope=col>&lt;chr&gt;</th><th scope=col>&lt;chr&gt;</th><th scope=col>&lt;chr&gt;</th><th scope=col>&lt;int&gt;</th><th scope=col>&lt;int&gt;</th><th scope=col>&lt;list&gt;</th></tr>\n",
       "</thead>\n",
       "<tbody>\n",
       "\t<tr><th scope=row>1</th><td>query_1</td><td>TRUE</td><td>0.000267562</td><td>11</td><td>26</td><td>4</td><td>0.1538462</td><td>0.36363636</td><td>HP:0012766</td><td>HP   </td><td>Widened cerebral subarachnoid space                                                </td><td> 4851</td><td>9156</td><td>HP:0012704</td></tr>\n",
       "\t<tr><th scope=row>2</th><td>query_1</td><td>TRUE</td><td>0.003592173</td><td>18</td><td> 8</td><td>2</td><td>0.2500000</td><td>0.11111111</td><td>GO:0030992</td><td>GO:CC</td><td>intraciliary transport particle B                                                  </td><td>22122</td><td>1022</td><td>GO:0030990, GO:0032991</td></tr>\n",
       "\t<tr><th scope=row>3</th><td>query_1</td><td>TRUE</td><td>0.007034564</td><td>25</td><td> 8</td><td>2</td><td>0.2500000</td><td>0.08000000</td><td>GO:0030990</td><td>GO:CC</td><td>intraciliary transport particle                                                    </td><td>22122</td><td>1020</td><td>GO:0032991</td></tr>\n",
       "\t<tr><th scope=row>4</th><td>query_1</td><td>TRUE</td><td>0.015332077</td><td>57</td><td>25</td><td>3</td><td>0.1200000</td><td>0.05263158</td><td>GO:0016655</td><td>GO:MF</td><td>oxidoreductase activity, acting on NAD(P)H, quinone or similar compound as acceptor</td><td>20195</td><td>2896</td><td>GO:0016651</td></tr>\n",
       "\t<tr><th scope=row>5</th><td>query_1</td><td>TRUE</td><td>0.016182094</td><td> 1</td><td> 1</td><td>1</td><td>1.0000000</td><td>1.00000000</td><td>GO:0046525</td><td>GO:MF</td><td>xylosylprotein 4-beta-galactosyltransferase activity                               </td><td>20195</td><td>6226</td><td>GO:0035250, GO:0140103</td></tr>\n",
       "\t<tr><th scope=row>6</th><td>query_1</td><td>TRUE</td><td>0.020518807</td><td>10</td><td>26</td><td>3</td><td>0.1153846</td><td>0.30000000</td><td>HP:0007327</td><td>HP   </td><td>Mixed demyelinating and axonal polyneuropathy                                      </td><td> 4851</td><td>4683</td><td>HP:0009830, HP:0012447</td></tr>\n",
       "\t<tr><th scope=row>7</th><td>query_1</td><td>TRUE</td><td>0.020518807</td><td>10</td><td>26</td><td>3</td><td>0.1153846</td><td>0.30000000</td><td>HP:0001112</td><td>HP   </td><td>Leber optic atrophy                                                                </td><td> 4851</td><td> 872</td><td>HP:0000587</td></tr>\n",
       "\t<tr><th scope=row>8</th><td>query_1</td><td>TRUE</td><td>0.025077934</td><td>10</td><td> 8</td><td>2</td><td>0.2500000</td><td>0.20000000</td><td>CORUM:6173</td><td>CORUM</td><td>Intraflagellar transport complex B core complex                                    </td><td> 3383</td><td>1947</td><td>CORUM:0000000</td></tr>\n",
       "\t<tr><th scope=row>9</th><td>query_1</td><td>TRUE</td><td>0.026340129</td><td>48</td><td> 8</td><td>2</td><td>0.2500000</td><td>0.04166667</td><td>GO:0097542</td><td>GO:CC</td><td>ciliary tip                                                                        </td><td>22122</td><td>3061</td><td>GO:0005929, GO:0110165</td></tr>\n",
       "\t<tr><th scope=row>10</th><td>query_1</td><td>TRUE</td><td>0.026629092</td><td>17</td><td> 8</td><td>2</td><td>0.2500000</td><td>0.11764706</td><td>GO:0035720</td><td>GO:BP</td><td>intraciliary anterograde transport                                                 </td><td>21110</td><td>9697</td><td>GO:0042073</td></tr>\n",
       "</tbody>\n",
       "</table>\n"
      ],
      "text/latex": [
       "A data.frame: 10 × 14\n",
       "\\begin{tabular}{r|llllllllllllll}\n",
       "  & query & significant & p\\_value & term\\_size & query\\_size & intersection\\_size & precision & recall & term\\_id & source & term\\_name & effective\\_domain\\_size & source\\_order & parents\\\\\n",
       "  & <chr> & <lgl> & <dbl> & <int> & <int> & <int> & <dbl> & <dbl> & <chr> & <chr> & <chr> & <int> & <int> & <list>\\\\\n",
       "\\hline\n",
       "\t1 & query\\_1 & TRUE & 0.000267562 & 11 & 26 & 4 & 0.1538462 & 0.36363636 & HP:0012766 & HP    & Widened cerebral subarachnoid space                                                 &  4851 & 9156 & HP:0012704\\\\\n",
       "\t2 & query\\_1 & TRUE & 0.003592173 & 18 &  8 & 2 & 0.2500000 & 0.11111111 & GO:0030992 & GO:CC & intraciliary transport particle B                                                   & 22122 & 1022 & GO:0030990, GO:0032991\\\\\n",
       "\t3 & query\\_1 & TRUE & 0.007034564 & 25 &  8 & 2 & 0.2500000 & 0.08000000 & GO:0030990 & GO:CC & intraciliary transport particle                                                     & 22122 & 1020 & GO:0032991\\\\\n",
       "\t4 & query\\_1 & TRUE & 0.015332077 & 57 & 25 & 3 & 0.1200000 & 0.05263158 & GO:0016655 & GO:MF & oxidoreductase activity, acting on NAD(P)H, quinone or similar compound as acceptor & 20195 & 2896 & GO:0016651\\\\\n",
       "\t5 & query\\_1 & TRUE & 0.016182094 &  1 &  1 & 1 & 1.0000000 & 1.00000000 & GO:0046525 & GO:MF & xylosylprotein 4-beta-galactosyltransferase activity                                & 20195 & 6226 & GO:0035250, GO:0140103\\\\\n",
       "\t6 & query\\_1 & TRUE & 0.020518807 & 10 & 26 & 3 & 0.1153846 & 0.30000000 & HP:0007327 & HP    & Mixed demyelinating and axonal polyneuropathy                                       &  4851 & 4683 & HP:0009830, HP:0012447\\\\\n",
       "\t7 & query\\_1 & TRUE & 0.020518807 & 10 & 26 & 3 & 0.1153846 & 0.30000000 & HP:0001112 & HP    & Leber optic atrophy                                                                 &  4851 &  872 & HP:0000587\\\\\n",
       "\t8 & query\\_1 & TRUE & 0.025077934 & 10 &  8 & 2 & 0.2500000 & 0.20000000 & CORUM:6173 & CORUM & Intraflagellar transport complex B core complex                                     &  3383 & 1947 & CORUM:0000000\\\\\n",
       "\t9 & query\\_1 & TRUE & 0.026340129 & 48 &  8 & 2 & 0.2500000 & 0.04166667 & GO:0097542 & GO:CC & ciliary tip                                                                         & 22122 & 3061 & GO:0005929, GO:0110165\\\\\n",
       "\t10 & query\\_1 & TRUE & 0.026629092 & 17 &  8 & 2 & 0.2500000 & 0.11764706 & GO:0035720 & GO:BP & intraciliary anterograde transport                                                  & 21110 & 9697 & GO:0042073\\\\\n",
       "\\end{tabular}\n"
      ],
      "text/markdown": [
       "\n",
       "A data.frame: 10 × 14\n",
       "\n",
       "| <!--/--> | query &lt;chr&gt; | significant &lt;lgl&gt; | p_value &lt;dbl&gt; | term_size &lt;int&gt; | query_size &lt;int&gt; | intersection_size &lt;int&gt; | precision &lt;dbl&gt; | recall &lt;dbl&gt; | term_id &lt;chr&gt; | source &lt;chr&gt; | term_name &lt;chr&gt; | effective_domain_size &lt;int&gt; | source_order &lt;int&gt; | parents &lt;list&gt; |\n",
       "|---|---|---|---|---|---|---|---|---|---|---|---|---|---|---|\n",
       "| 1 | query_1 | TRUE | 0.000267562 | 11 | 26 | 4 | 0.1538462 | 0.36363636 | HP:0012766 | HP    | Widened cerebral subarachnoid space                                                 |  4851 | 9156 | HP:0012704 |\n",
       "| 2 | query_1 | TRUE | 0.003592173 | 18 |  8 | 2 | 0.2500000 | 0.11111111 | GO:0030992 | GO:CC | intraciliary transport particle B                                                   | 22122 | 1022 | GO:0030990, GO:0032991 |\n",
       "| 3 | query_1 | TRUE | 0.007034564 | 25 |  8 | 2 | 0.2500000 | 0.08000000 | GO:0030990 | GO:CC | intraciliary transport particle                                                     | 22122 | 1020 | GO:0032991 |\n",
       "| 4 | query_1 | TRUE | 0.015332077 | 57 | 25 | 3 | 0.1200000 | 0.05263158 | GO:0016655 | GO:MF | oxidoreductase activity, acting on NAD(P)H, quinone or similar compound as acceptor | 20195 | 2896 | GO:0016651 |\n",
       "| 5 | query_1 | TRUE | 0.016182094 |  1 |  1 | 1 | 1.0000000 | 1.00000000 | GO:0046525 | GO:MF | xylosylprotein 4-beta-galactosyltransferase activity                                | 20195 | 6226 | GO:0035250, GO:0140103 |\n",
       "| 6 | query_1 | TRUE | 0.020518807 | 10 | 26 | 3 | 0.1153846 | 0.30000000 | HP:0007327 | HP    | Mixed demyelinating and axonal polyneuropathy                                       |  4851 | 4683 | HP:0009830, HP:0012447 |\n",
       "| 7 | query_1 | TRUE | 0.020518807 | 10 | 26 | 3 | 0.1153846 | 0.30000000 | HP:0001112 | HP    | Leber optic atrophy                                                                 |  4851 |  872 | HP:0000587 |\n",
       "| 8 | query_1 | TRUE | 0.025077934 | 10 |  8 | 2 | 0.2500000 | 0.20000000 | CORUM:6173 | CORUM | Intraflagellar transport complex B core complex                                     |  3383 | 1947 | CORUM:0000000 |\n",
       "| 9 | query_1 | TRUE | 0.026340129 | 48 |  8 | 2 | 0.2500000 | 0.04166667 | GO:0097542 | GO:CC | ciliary tip                                                                         | 22122 | 3061 | GO:0005929, GO:0110165 |\n",
       "| 10 | query_1 | TRUE | 0.026629092 | 17 |  8 | 2 | 0.2500000 | 0.11764706 | GO:0035720 | GO:BP | intraciliary anterograde transport                                                  | 21110 | 9697 | GO:0042073 |\n",
       "\n"
      ],
      "text/plain": [
       "   query   significant p_value     term_size query_size intersection_size\n",
       "1  query_1 TRUE        0.000267562 11        26         4                \n",
       "2  query_1 TRUE        0.003592173 18         8         2                \n",
       "3  query_1 TRUE        0.007034564 25         8         2                \n",
       "4  query_1 TRUE        0.015332077 57        25         3                \n",
       "5  query_1 TRUE        0.016182094  1         1         1                \n",
       "6  query_1 TRUE        0.020518807 10        26         3                \n",
       "7  query_1 TRUE        0.020518807 10        26         3                \n",
       "8  query_1 TRUE        0.025077934 10         8         2                \n",
       "9  query_1 TRUE        0.026340129 48         8         2                \n",
       "10 query_1 TRUE        0.026629092 17         8         2                \n",
       "   precision recall     term_id    source\n",
       "1  0.1538462 0.36363636 HP:0012766 HP    \n",
       "2  0.2500000 0.11111111 GO:0030992 GO:CC \n",
       "3  0.2500000 0.08000000 GO:0030990 GO:CC \n",
       "4  0.1200000 0.05263158 GO:0016655 GO:MF \n",
       "5  1.0000000 1.00000000 GO:0046525 GO:MF \n",
       "6  0.1153846 0.30000000 HP:0007327 HP    \n",
       "7  0.1153846 0.30000000 HP:0001112 HP    \n",
       "8  0.2500000 0.20000000 CORUM:6173 CORUM \n",
       "9  0.2500000 0.04166667 GO:0097542 GO:CC \n",
       "10 0.2500000 0.11764706 GO:0035720 GO:BP \n",
       "   term_name                                                                          \n",
       "1  Widened cerebral subarachnoid space                                                \n",
       "2  intraciliary transport particle B                                                  \n",
       "3  intraciliary transport particle                                                    \n",
       "4  oxidoreductase activity, acting on NAD(P)H, quinone or similar compound as acceptor\n",
       "5  xylosylprotein 4-beta-galactosyltransferase activity                               \n",
       "6  Mixed demyelinating and axonal polyneuropathy                                      \n",
       "7  Leber optic atrophy                                                                \n",
       "8  Intraflagellar transport complex B core complex                                    \n",
       "9  ciliary tip                                                                        \n",
       "10 intraciliary anterograde transport                                                 \n",
       "   effective_domain_size source_order parents               \n",
       "1   4851                 9156         HP:0012704            \n",
       "2  22122                 1022         GO:0030990, GO:0032991\n",
       "3  22122                 1020         GO:0032991            \n",
       "4  20195                 2896         GO:0016651            \n",
       "5  20195                 6226         GO:0035250, GO:0140103\n",
       "6   4851                 4683         HP:0009830, HP:0012447\n",
       "7   4851                  872         HP:0000587            \n",
       "8   3383                 1947         CORUM:0000000         \n",
       "9  22122                 3061         GO:0005929, GO:0110165\n",
       "10 21110                 9697         GO:0042073            "
      ]
     },
     "metadata": {},
     "output_type": "display_data"
    }
   ],
   "source": [
    "result  <- gost(abs(dict[,22]) %>% sort()  %>% rev() %>% head(30) %>% names(),ordered_query = T)\n",
    "result$result  %>% arrange(p_value)  %>% filter(term_size < 1000) %>% head(10)"
   ]
  },
  {
   "cell_type": "code",
   "execution_count": 32,
   "metadata": {
    "vscode": {
     "languageId": "r"
    }
   },
   "outputs": [
    {
     "name": "stdout",
     "output_type": "stream",
     "text": [
      "\n",
      "The downloaded binary packages are in\n",
      "\t/var/folders/qd/nvzjj6dd3bx9d0pqsk7m4tr80000gn/T//RtmpXb9x1z/downloaded_packages\n"
     ]
    }
   ],
   "source": [
    "install.packages(\"gprofiler2\")"
   ]
  },
  {
   "cell_type": "code",
   "execution_count": 40,
   "metadata": {
    "vscode": {
     "languageId": "r"
    }
   },
   "outputs": [
    {
     "data": {
      "text/html": [
       "<table class=\"dataframe\">\n",
       "<caption>A spec_tbl_df: 3384 × 10</caption>\n",
       "<thead>\n",
       "\t<tr><th scope=col>gene_id</th><th scope=col>gene_name</th><th scope=col>mean</th><th scope=col>std</th><th scope=col>cv</th><th scope=col>in_matrix</th><th scope=col>gini</th><th scope=col>clean_mean</th><th scope=col>clean_std</th><th scope=col>clean_cv</th></tr>\n",
       "\t<tr><th scope=col>&lt;chr&gt;</th><th scope=col>&lt;chr&gt;</th><th scope=col>&lt;dbl&gt;</th><th scope=col>&lt;dbl&gt;</th><th scope=col>&lt;dbl&gt;</th><th scope=col>&lt;lgl&gt;</th><th scope=col>&lt;dbl&gt;</th><th scope=col>&lt;dbl&gt;</th><th scope=col>&lt;dbl&gt;</th><th scope=col>&lt;dbl&gt;</th></tr>\n",
       "</thead>\n",
       "<tbody>\n",
       "\t<tr><td>ENSG00000000419</td><td>DPM1   </td><td>0.7850459</td><td>0.10545670</td><td>0.13433190</td><td>TRUE</td><td>0.07212226</td><td>0.8067765</td><td>0.10731252</td><td>0.13301395</td></tr>\n",
       "\t<tr><td>ENSG00000001036</td><td>FUCA2  </td><td>0.8603362</td><td>0.10897151</td><td>0.12666154</td><td>TRUE</td><td>0.06777804</td><td>0.8833603</td><td>0.11090380</td><td>0.12554765</td></tr>\n",
       "\t<tr><td>ENSG00000001497</td><td>LAS1L  </td><td>0.9034098</td><td>0.12070036</td><td>0.13360532</td><td>TRUE</td><td>0.07178739</td><td>0.9280114</td><td>0.12164642</td><td>0.13108289</td></tr>\n",
       "\t<tr><td>ENSG00000001629</td><td>ANKIB1 </td><td>0.1606149</td><td>0.03796154</td><td>0.23635125</td><td>TRUE</td><td>0.12764200</td><td>0.1644727</td><td>0.03915699</td><td>0.23807594</td></tr>\n",
       "\t<tr><td>ENSG00000001630</td><td>CYP51A1</td><td>1.0960715</td><td>0.15919486</td><td>0.14524130</td><td>TRUE</td><td>0.07740526</td><td>1.1250014</td><td>0.16133223</td><td>0.14340624</td></tr>\n",
       "\t<tr><td>ENSG00000002549</td><td>LAP3   </td><td>0.7295924</td><td>0.10051703</td><td>0.13777147</td><td>TRUE</td><td>0.07399670</td><td>0.7499226</td><td>0.10223719</td><td>0.13633030</td></tr>\n",
       "\t<tr><td>ENSG00000002586</td><td>CD99   </td><td>1.4278524</td><td>0.16420257</td><td>0.11499968</td><td>TRUE</td><td>0.06137931</td><td>1.4668125</td><td>0.16711718</td><td>0.11393220</td></tr>\n",
       "\t<tr><td>ENSG00000003402</td><td>CFLAR  </td><td>0.8407919</td><td>0.11504367</td><td>0.13682777</td><td>TRUE</td><td>0.07145646</td><td>0.8624691</td><td>0.11902251</td><td>0.13800205</td></tr>\n",
       "\t<tr><td>ENSG00000003436</td><td>TFPI   </td><td>0.3138401</td><td>0.10325091</td><td>0.32899210</td><td>TRUE</td><td>0.15030165</td><td>0.3213279</td><td>0.10748815</td><td>0.33451230</td></tr>\n",
       "\t<tr><td>ENSG00000004059</td><td>ARF5   </td><td>1.1714885</td><td>0.13522370</td><td>0.11542896</td><td>TRUE</td><td>0.06100454</td><td>1.2044604</td><td>0.13757995</td><td>0.11422538</td></tr>\n",
       "\t<tr><td>ENSG00000004142</td><td>POLDIP2</td><td>0.7956790</td><td>0.10735722</td><td>0.13492529</td><td>TRUE</td><td>0.07184855</td><td>0.8176255</td><td>0.10886439</td><td>0.13314700</td></tr>\n",
       "\t<tr><td>ENSG00000004455</td><td>AK2    </td><td>2.6836967</td><td>0.28194278</td><td>0.10505762</td><td>TRUE</td><td>0.05473571</td><td>2.7570620</td><td>0.28253952</td><td>0.10247848</td></tr>\n",
       "\t<tr><td>ENSG00000004478</td><td>FKBP4  </td><td>1.5647134</td><td>0.21182105</td><td>0.13537371</td><td>TRUE</td><td>0.07095491</td><td>1.6084449</td><td>0.21292324</td><td>0.13237832</td></tr>\n",
       "\t<tr><td>ENSG00000004487</td><td>KDM1A  </td><td>1.9815102</td><td>0.22089669</td><td>0.11147896</td><td>TRUE</td><td>0.05798202</td><td>2.0347595</td><td>0.22302808</td><td>0.10960906</td></tr>\n",
       "\t<tr><td>ENSG00000004534</td><td>RBM6   </td><td>0.8707592</td><td>0.10503603</td><td>0.12062579</td><td>TRUE</td><td>0.06439949</td><td>0.8924941</td><td>0.10707670</td><td>0.11997469</td></tr>\n",
       "\t<tr><td>ENSG00000004779</td><td>NDUFAB1</td><td>4.4099116</td><td>0.42786050</td><td>0.09702247</td><td>TRUE</td><td>0.05027764</td><td>4.5343950</td><td>0.42528433</td><td>0.09379075</td></tr>\n",
       "\t<tr><td>ENSG00000004961</td><td>HCCS   </td><td>0.6630993</td><td>0.10090244</td><td>0.15216792</td><td>TRUE</td><td>0.08063644</td><td>0.6816931</td><td>0.10290189</td><td>0.15095046</td></tr>\n",
       "\t<tr><td>ENSG00000005022</td><td>SLC25A5</td><td>4.3111340</td><td>0.42917580</td><td>0.09955056</td><td>TRUE</td><td>0.05124012</td><td>4.4336950</td><td>0.42539644</td><td>0.09594626</td></tr>\n",
       "\t<tr><td>ENSG00000005059</td><td>MCUB   </td><td>0.3382350</td><td>0.06644923</td><td>0.19645876</td><td>TRUE</td><td>0.10246377</td><td>0.3476468</td><td>0.06853771</td><td>0.19714752</td></tr>\n",
       "\t<tr><td>ENSG00000005075</td><td>POLR2J </td><td>1.4778224</td><td>0.16585515</td><td>0.11222942</td><td>TRUE</td><td>0.05872815</td><td>1.5185717</td><td>0.16943808</td><td>0.11157726</td></tr>\n",
       "\t<tr><td>ENSG00000005187</td><td>ACSM3  </td><td>1.0725878</td><td>0.18405852</td><td>0.17160228</td><td>TRUE</td><td>0.08965508</td><td>1.0991690</td><td>0.18948737</td><td>0.17239147</td></tr>\n",
       "\t<tr><td>ENSG00000005249</td><td>PRKAR2B</td><td>3.8514680</td><td>0.46784073</td><td>0.12147076</td><td>TRUE</td><td>0.06264056</td><td>3.9560366</td><td>0.46794683</td><td>0.11828678</td></tr>\n",
       "\t<tr><td>ENSG00000005483</td><td>KMT2E  </td><td>0.8296340</td><td>0.10373199</td><td>0.12503344</td><td>TRUE</td><td>0.06599940</td><td>0.8495250</td><td>0.10698712</td><td>0.12593758</td></tr>\n",
       "\t<tr><td>ENSG00000005486</td><td>RHBDD2 </td><td>0.1172702</td><td>0.03371963</td><td>0.28753780</td><td>TRUE</td><td>0.15388765</td><td>0.1203985</td><td>0.03497556</td><td>0.29049838</td></tr>\n",
       "\t<tr><td>ENSG00000005700</td><td>IBTK   </td><td>0.4685331</td><td>0.07397345</td><td>0.15788308</td><td>TRUE</td><td>0.08515433</td><td>0.4809628</td><td>0.07519700</td><td>0.15634680</td></tr>\n",
       "\t<tr><td>ENSG00000005801</td><td>ZNF195 </td><td>0.3170098</td><td>0.05793135</td><td>0.18274307</td><td>TRUE</td><td>0.09755255</td><td>0.3251416</td><td>0.05941095</td><td>0.18272331</td></tr>\n",
       "\t<tr><td>ENSG00000005810</td><td>MYCBP2 </td><td>1.5593199</td><td>0.17492536</td><td>0.11218055</td><td>TRUE</td><td>0.05933033</td><td>1.5997210</td><td>0.17512760</td><td>0.10947384</td></tr>\n",
       "\t<tr><td>ENSG00000005812</td><td>FBXL3  </td><td>0.2333746</td><td>0.04766882</td><td>0.20425877</td><td>TRUE</td><td>0.10975024</td><td>0.2393012</td><td>0.04922899</td><td>0.20571981</td></tr>\n",
       "\t<tr><td>ENSG00000005893</td><td>LAMP2  </td><td>0.2929138</td><td>0.05589050</td><td>0.19080867</td><td>TRUE</td><td>0.10183667</td><td>0.3004461</td><td>0.05787613</td><td>0.19263400</td></tr>\n",
       "\t<tr><td>ENSG00000006015</td><td>REX1BD </td><td>1.1193630</td><td>0.13913348</td><td>0.12429702</td><td>TRUE</td><td>0.06641307</td><td>1.1487428</td><td>0.14083011</td><td>0.12259499</td></tr>\n",
       "\t<tr><td>⋮</td><td>⋮</td><td>⋮</td><td>⋮</td><td>⋮</td><td>⋮</td><td>⋮</td><td>⋮</td><td>⋮</td><td>⋮</td></tr>\n",
       "\t<tr><td>ENSG00000274536</td><td>AL034397.3</td><td>0.8277140</td><td>0.13898222</td><td>0.16791092</td><td>TRUE</td><td>0.08957493</td><td>0.84869796</td><td>0.14110630</td><td>0.16626209</td></tr>\n",
       "\t<tr><td>ENSG00000274925</td><td>ZKSCAN2-DT</td><td>0.1571467</td><td>0.04440783</td><td>0.28258836</td><td>TRUE</td><td>0.13735631</td><td>0.16080340</td><td>0.04543741</td><td>0.28256500</td></tr>\n",
       "\t<tr><td>ENSG00000274997</td><td>HIST1H2AH </td><td>0.4837086</td><td>0.10924800</td><td>0.22585500</td><td>TRUE</td><td>0.12298292</td><td>0.49615630</td><td>0.11105032</td><td>0.22382125</td></tr>\n",
       "\t<tr><td>ENSG00000275004</td><td>ZNF280B   </td><td>0.5585104</td><td>0.08306733</td><td>0.14873014</td><td>TRUE</td><td>0.07901125</td><td>0.57285416</td><td>0.08548901</td><td>0.14923346</td></tr>\n",
       "\t<tr><td>ENSG00000275700</td><td>AATF      </td><td>1.1565088</td><td>0.14094928</td><td>0.12187480</td><td>TRUE</td><td>0.06452358</td><td>1.18850390</td><td>0.14342284</td><td>0.12067512</td></tr>\n",
       "\t<tr><td>ENSG00000275713</td><td>HIST1H2BH </td><td>0.2559747</td><td>0.07086494</td><td>0.27684352</td><td>TRUE</td><td>0.13906505</td><td>0.26013172</td><td>0.07295569</td><td>0.28045672</td></tr>\n",
       "\t<tr><td>ENSG00000276900</td><td>AC023157.3</td><td>0.1007593</td><td>0.04562856</td><td>0.45284697</td><td>TRUE</td><td>0.20404118</td><td>0.10231390</td><td>0.04726985</td><td>0.46200810</td></tr>\n",
       "\t<tr><td>ENSG00000277791</td><td>PSMB3     </td><td>3.5990577</td><td>0.34331470</td><td>0.09539016</td><td>TRUE</td><td>0.04966149</td><td>3.70115950</td><td>0.34552297</td><td>0.09335533</td></tr>\n",
       "\t<tr><td>ENSG00000277969</td><td>AC006449.6</td><td>0.1365460</td><td>0.04731583</td><td>0.34651938</td><td>TRUE</td><td>0.15006956</td><td>0.13982524</td><td>0.04826176</td><td>0.34515770</td></tr>\n",
       "\t<tr><td>ENSG00000278053</td><td>DDX52     </td><td>0.9571863</td><td>0.11830562</td><td>0.12359727</td><td>TRUE</td><td>0.06565183</td><td>0.98262435</td><td>0.12013127</td><td>0.12225554</td></tr>\n",
       "\t<tr><td>ENSG00000278311</td><td>GGNBP2    </td><td>1.0337566</td><td>0.13018775</td><td>0.12593655</td><td>TRUE</td><td>0.06378178</td><td>1.06129440</td><td>0.13429853</td><td>0.12654220</td></tr>\n",
       "\t<tr><td>ENSG00000278384</td><td>AL354822.1</td><td>0.1872048</td><td>0.04246069</td><td>0.22681417</td><td>TRUE</td><td>0.12151441</td><td>0.19176388</td><td>0.04373312</td><td>0.22805713</td></tr>\n",
       "\t<tr><td>ENSG00000278828</td><td>HIST1H3H  </td><td>0.2354017</td><td>0.07006408</td><td>0.29763630</td><td>TRUE</td><td>0.14211402</td><td>0.24066317</td><td>0.07290142</td><td>0.30291888</td></tr>\n",
       "\t<tr><td>ENSG00000278845</td><td>MRPL45    </td><td>0.8780377</td><td>0.11387230</td><td>0.12968953</td><td>TRUE</td><td>0.06935250</td><td>0.90260000</td><td>0.11576160</td><td>0.12825349</td></tr>\n",
       "\t<tr><td>ENSG00000278932</td><td>CR381653.1</td><td>0.2098164</td><td>0.04941064</td><td>0.23549466</td><td>TRUE</td><td>0.11884321</td><td>0.21450640</td><td>0.05073100</td><td>0.23650110</td></tr>\n",
       "\t<tr><td>ENSG00000279669</td><td>AC079801.1</td><td>1.1204697</td><td>0.24543732</td><td>0.21904860</td><td>TRUE</td><td>0.10430672</td><td>1.15019170</td><td>0.25559694</td><td>0.22222117</td></tr>\n",
       "\t<tr><td>ENSG00000280145</td><td>CU638689.4</td><td>0.3010191</td><td>0.06292441</td><td>0.20903791</td><td>TRUE</td><td>0.10779712</td><td>0.30892453</td><td>0.06490871</td><td>0.21011186</td></tr>\n",
       "\t<tr><td>ENSG00000280623</td><td>PCAT14    </td><td>0.4932286</td><td>0.13069560</td><td>0.26497975</td><td>TRUE</td><td>0.13966263</td><td>0.50612030</td><td>0.13437827</td><td>0.26550657</td></tr>\n",
       "\t<tr><td>ENSG00000281344</td><td>HELLPAR   </td><td>0.4825214</td><td>0.09223273</td><td>0.19114743</td><td>TRUE</td><td>0.10066699</td><td>0.49451718</td><td>0.09494478</td><td>0.19199492</td></tr>\n",
       "\t<tr><td>ENSG00000281398</td><td>SNHG4     </td><td>1.0067244</td><td>0.16935039</td><td>0.16821922</td><td>TRUE</td><td>0.08489569</td><td>1.03281430</td><td>0.17208107</td><td>0.16661376</td></tr>\n",
       "\t<tr><td>ENSG00000282885</td><td>AL627171.2</td><td>0.1211020</td><td>0.22446021</td><td>1.85348130</td><td>TRUE</td><td>0.43806011</td><td>0.07367369</td><td>0.09561884</td><td>1.29786960</td></tr>\n",
       "\t<tr><td>ENSG00000283235</td><td>AC139493.2</td><td>1.0162845</td><td>0.22049215</td><td>0.21695909</td><td>TRUE</td><td>0.10421372</td><td>1.04401720</td><td>0.22866870</td><td>0.21902771</td></tr>\n",
       "\t<tr><td>ENSG00000285053</td><td>TBCE      </td><td>0.1191033</td><td>0.03326858</td><td>0.27932528</td><td>TRUE</td><td>0.14908400</td><td>0.12162735</td><td>0.03416780</td><td>0.28092200</td></tr>\n",
       "\t<tr><td>ENSG00000285278</td><td>TFAP2A-AS2</td><td>0.1018481</td><td>0.04751060</td><td>0.46648496</td><td>TRUE</td><td>0.17833378</td><td>0.10404120</td><td>0.04873581</td><td>0.46842793</td></tr>\n",
       "\t<tr><td>ENSG00000285437</td><td>POLR2J3   </td><td>1.9019974</td><td>0.20084311</td><td>0.10559589</td><td>TRUE</td><td>0.05537344</td><td>1.94868420</td><td>0.20493212</td><td>0.10516436</td></tr>\n",
       "\t<tr><td>ENSG00000286122</td><td>AC016074.2</td><td>0.2910534</td><td>0.15219803</td><td>0.52292130</td><td>TRUE</td><td>0.23816621</td><td>0.29801820</td><td>0.15686013</td><td>0.52634410</td></tr>\n",
       "\t<tr><td>ENSG00000286808</td><td>AC092338.3</td><td>0.2327299</td><td>0.04828846</td><td>0.20748714</td><td>TRUE</td><td>0.11217661</td><td>0.23843750</td><td>0.04959753</td><td>0.20801061</td></tr>\n",
       "\t<tr><td>ENSG00000287151</td><td>C2orf27A  </td><td>0.1459729</td><td>0.04022681</td><td>0.27557730</td><td>TRUE</td><td>0.14564185</td><td>0.14961487</td><td>0.04163698</td><td>0.27829440</td></tr>\n",
       "\t<tr><td>ENSG00000287719</td><td>AP001531.1</td><td>0.3656518</td><td>0.09504661</td><td>0.25993747</td><td>TRUE</td><td>0.13506884</td><td>0.37549420</td><td>0.09861702</td><td>0.26263260</td></tr>\n",
       "\t<tr><td>ENSG00000287966</td><td>AL590062.1</td><td>0.1155860</td><td>0.03433579</td><td>0.29705840</td><td>TRUE</td><td>0.15762629</td><td>0.11851312</td><td>0.03542809</td><td>0.29893810</td></tr>\n",
       "</tbody>\n",
       "</table>\n"
      ],
      "text/latex": [
       "A spec\\_tbl\\_df: 3384 × 10\n",
       "\\begin{tabular}{llllllllll}\n",
       " gene\\_id & gene\\_name & mean & std & cv & in\\_matrix & gini & clean\\_mean & clean\\_std & clean\\_cv\\\\\n",
       " <chr> & <chr> & <dbl> & <dbl> & <dbl> & <lgl> & <dbl> & <dbl> & <dbl> & <dbl>\\\\\n",
       "\\hline\n",
       "\t ENSG00000000419 & DPM1    & 0.7850459 & 0.10545670 & 0.13433190 & TRUE & 0.07212226 & 0.8067765 & 0.10731252 & 0.13301395\\\\\n",
       "\t ENSG00000001036 & FUCA2   & 0.8603362 & 0.10897151 & 0.12666154 & TRUE & 0.06777804 & 0.8833603 & 0.11090380 & 0.12554765\\\\\n",
       "\t ENSG00000001497 & LAS1L   & 0.9034098 & 0.12070036 & 0.13360532 & TRUE & 0.07178739 & 0.9280114 & 0.12164642 & 0.13108289\\\\\n",
       "\t ENSG00000001629 & ANKIB1  & 0.1606149 & 0.03796154 & 0.23635125 & TRUE & 0.12764200 & 0.1644727 & 0.03915699 & 0.23807594\\\\\n",
       "\t ENSG00000001630 & CYP51A1 & 1.0960715 & 0.15919486 & 0.14524130 & TRUE & 0.07740526 & 1.1250014 & 0.16133223 & 0.14340624\\\\\n",
       "\t ENSG00000002549 & LAP3    & 0.7295924 & 0.10051703 & 0.13777147 & TRUE & 0.07399670 & 0.7499226 & 0.10223719 & 0.13633030\\\\\n",
       "\t ENSG00000002586 & CD99    & 1.4278524 & 0.16420257 & 0.11499968 & TRUE & 0.06137931 & 1.4668125 & 0.16711718 & 0.11393220\\\\\n",
       "\t ENSG00000003402 & CFLAR   & 0.8407919 & 0.11504367 & 0.13682777 & TRUE & 0.07145646 & 0.8624691 & 0.11902251 & 0.13800205\\\\\n",
       "\t ENSG00000003436 & TFPI    & 0.3138401 & 0.10325091 & 0.32899210 & TRUE & 0.15030165 & 0.3213279 & 0.10748815 & 0.33451230\\\\\n",
       "\t ENSG00000004059 & ARF5    & 1.1714885 & 0.13522370 & 0.11542896 & TRUE & 0.06100454 & 1.2044604 & 0.13757995 & 0.11422538\\\\\n",
       "\t ENSG00000004142 & POLDIP2 & 0.7956790 & 0.10735722 & 0.13492529 & TRUE & 0.07184855 & 0.8176255 & 0.10886439 & 0.13314700\\\\\n",
       "\t ENSG00000004455 & AK2     & 2.6836967 & 0.28194278 & 0.10505762 & TRUE & 0.05473571 & 2.7570620 & 0.28253952 & 0.10247848\\\\\n",
       "\t ENSG00000004478 & FKBP4   & 1.5647134 & 0.21182105 & 0.13537371 & TRUE & 0.07095491 & 1.6084449 & 0.21292324 & 0.13237832\\\\\n",
       "\t ENSG00000004487 & KDM1A   & 1.9815102 & 0.22089669 & 0.11147896 & TRUE & 0.05798202 & 2.0347595 & 0.22302808 & 0.10960906\\\\\n",
       "\t ENSG00000004534 & RBM6    & 0.8707592 & 0.10503603 & 0.12062579 & TRUE & 0.06439949 & 0.8924941 & 0.10707670 & 0.11997469\\\\\n",
       "\t ENSG00000004779 & NDUFAB1 & 4.4099116 & 0.42786050 & 0.09702247 & TRUE & 0.05027764 & 4.5343950 & 0.42528433 & 0.09379075\\\\\n",
       "\t ENSG00000004961 & HCCS    & 0.6630993 & 0.10090244 & 0.15216792 & TRUE & 0.08063644 & 0.6816931 & 0.10290189 & 0.15095046\\\\\n",
       "\t ENSG00000005022 & SLC25A5 & 4.3111340 & 0.42917580 & 0.09955056 & TRUE & 0.05124012 & 4.4336950 & 0.42539644 & 0.09594626\\\\\n",
       "\t ENSG00000005059 & MCUB    & 0.3382350 & 0.06644923 & 0.19645876 & TRUE & 0.10246377 & 0.3476468 & 0.06853771 & 0.19714752\\\\\n",
       "\t ENSG00000005075 & POLR2J  & 1.4778224 & 0.16585515 & 0.11222942 & TRUE & 0.05872815 & 1.5185717 & 0.16943808 & 0.11157726\\\\\n",
       "\t ENSG00000005187 & ACSM3   & 1.0725878 & 0.18405852 & 0.17160228 & TRUE & 0.08965508 & 1.0991690 & 0.18948737 & 0.17239147\\\\\n",
       "\t ENSG00000005249 & PRKAR2B & 3.8514680 & 0.46784073 & 0.12147076 & TRUE & 0.06264056 & 3.9560366 & 0.46794683 & 0.11828678\\\\\n",
       "\t ENSG00000005483 & KMT2E   & 0.8296340 & 0.10373199 & 0.12503344 & TRUE & 0.06599940 & 0.8495250 & 0.10698712 & 0.12593758\\\\\n",
       "\t ENSG00000005486 & RHBDD2  & 0.1172702 & 0.03371963 & 0.28753780 & TRUE & 0.15388765 & 0.1203985 & 0.03497556 & 0.29049838\\\\\n",
       "\t ENSG00000005700 & IBTK    & 0.4685331 & 0.07397345 & 0.15788308 & TRUE & 0.08515433 & 0.4809628 & 0.07519700 & 0.15634680\\\\\n",
       "\t ENSG00000005801 & ZNF195  & 0.3170098 & 0.05793135 & 0.18274307 & TRUE & 0.09755255 & 0.3251416 & 0.05941095 & 0.18272331\\\\\n",
       "\t ENSG00000005810 & MYCBP2  & 1.5593199 & 0.17492536 & 0.11218055 & TRUE & 0.05933033 & 1.5997210 & 0.17512760 & 0.10947384\\\\\n",
       "\t ENSG00000005812 & FBXL3   & 0.2333746 & 0.04766882 & 0.20425877 & TRUE & 0.10975024 & 0.2393012 & 0.04922899 & 0.20571981\\\\\n",
       "\t ENSG00000005893 & LAMP2   & 0.2929138 & 0.05589050 & 0.19080867 & TRUE & 0.10183667 & 0.3004461 & 0.05787613 & 0.19263400\\\\\n",
       "\t ENSG00000006015 & REX1BD  & 1.1193630 & 0.13913348 & 0.12429702 & TRUE & 0.06641307 & 1.1487428 & 0.14083011 & 0.12259499\\\\\n",
       "\t ⋮ & ⋮ & ⋮ & ⋮ & ⋮ & ⋮ & ⋮ & ⋮ & ⋮ & ⋮\\\\\n",
       "\t ENSG00000274536 & AL034397.3 & 0.8277140 & 0.13898222 & 0.16791092 & TRUE & 0.08957493 & 0.84869796 & 0.14110630 & 0.16626209\\\\\n",
       "\t ENSG00000274925 & ZKSCAN2-DT & 0.1571467 & 0.04440783 & 0.28258836 & TRUE & 0.13735631 & 0.16080340 & 0.04543741 & 0.28256500\\\\\n",
       "\t ENSG00000274997 & HIST1H2AH  & 0.4837086 & 0.10924800 & 0.22585500 & TRUE & 0.12298292 & 0.49615630 & 0.11105032 & 0.22382125\\\\\n",
       "\t ENSG00000275004 & ZNF280B    & 0.5585104 & 0.08306733 & 0.14873014 & TRUE & 0.07901125 & 0.57285416 & 0.08548901 & 0.14923346\\\\\n",
       "\t ENSG00000275700 & AATF       & 1.1565088 & 0.14094928 & 0.12187480 & TRUE & 0.06452358 & 1.18850390 & 0.14342284 & 0.12067512\\\\\n",
       "\t ENSG00000275713 & HIST1H2BH  & 0.2559747 & 0.07086494 & 0.27684352 & TRUE & 0.13906505 & 0.26013172 & 0.07295569 & 0.28045672\\\\\n",
       "\t ENSG00000276900 & AC023157.3 & 0.1007593 & 0.04562856 & 0.45284697 & TRUE & 0.20404118 & 0.10231390 & 0.04726985 & 0.46200810\\\\\n",
       "\t ENSG00000277791 & PSMB3      & 3.5990577 & 0.34331470 & 0.09539016 & TRUE & 0.04966149 & 3.70115950 & 0.34552297 & 0.09335533\\\\\n",
       "\t ENSG00000277969 & AC006449.6 & 0.1365460 & 0.04731583 & 0.34651938 & TRUE & 0.15006956 & 0.13982524 & 0.04826176 & 0.34515770\\\\\n",
       "\t ENSG00000278053 & DDX52      & 0.9571863 & 0.11830562 & 0.12359727 & TRUE & 0.06565183 & 0.98262435 & 0.12013127 & 0.12225554\\\\\n",
       "\t ENSG00000278311 & GGNBP2     & 1.0337566 & 0.13018775 & 0.12593655 & TRUE & 0.06378178 & 1.06129440 & 0.13429853 & 0.12654220\\\\\n",
       "\t ENSG00000278384 & AL354822.1 & 0.1872048 & 0.04246069 & 0.22681417 & TRUE & 0.12151441 & 0.19176388 & 0.04373312 & 0.22805713\\\\\n",
       "\t ENSG00000278828 & HIST1H3H   & 0.2354017 & 0.07006408 & 0.29763630 & TRUE & 0.14211402 & 0.24066317 & 0.07290142 & 0.30291888\\\\\n",
       "\t ENSG00000278845 & MRPL45     & 0.8780377 & 0.11387230 & 0.12968953 & TRUE & 0.06935250 & 0.90260000 & 0.11576160 & 0.12825349\\\\\n",
       "\t ENSG00000278932 & CR381653.1 & 0.2098164 & 0.04941064 & 0.23549466 & TRUE & 0.11884321 & 0.21450640 & 0.05073100 & 0.23650110\\\\\n",
       "\t ENSG00000279669 & AC079801.1 & 1.1204697 & 0.24543732 & 0.21904860 & TRUE & 0.10430672 & 1.15019170 & 0.25559694 & 0.22222117\\\\\n",
       "\t ENSG00000280145 & CU638689.4 & 0.3010191 & 0.06292441 & 0.20903791 & TRUE & 0.10779712 & 0.30892453 & 0.06490871 & 0.21011186\\\\\n",
       "\t ENSG00000280623 & PCAT14     & 0.4932286 & 0.13069560 & 0.26497975 & TRUE & 0.13966263 & 0.50612030 & 0.13437827 & 0.26550657\\\\\n",
       "\t ENSG00000281344 & HELLPAR    & 0.4825214 & 0.09223273 & 0.19114743 & TRUE & 0.10066699 & 0.49451718 & 0.09494478 & 0.19199492\\\\\n",
       "\t ENSG00000281398 & SNHG4      & 1.0067244 & 0.16935039 & 0.16821922 & TRUE & 0.08489569 & 1.03281430 & 0.17208107 & 0.16661376\\\\\n",
       "\t ENSG00000282885 & AL627171.2 & 0.1211020 & 0.22446021 & 1.85348130 & TRUE & 0.43806011 & 0.07367369 & 0.09561884 & 1.29786960\\\\\n",
       "\t ENSG00000283235 & AC139493.2 & 1.0162845 & 0.22049215 & 0.21695909 & TRUE & 0.10421372 & 1.04401720 & 0.22866870 & 0.21902771\\\\\n",
       "\t ENSG00000285053 & TBCE       & 0.1191033 & 0.03326858 & 0.27932528 & TRUE & 0.14908400 & 0.12162735 & 0.03416780 & 0.28092200\\\\\n",
       "\t ENSG00000285278 & TFAP2A-AS2 & 0.1018481 & 0.04751060 & 0.46648496 & TRUE & 0.17833378 & 0.10404120 & 0.04873581 & 0.46842793\\\\\n",
       "\t ENSG00000285437 & POLR2J3    & 1.9019974 & 0.20084311 & 0.10559589 & TRUE & 0.05537344 & 1.94868420 & 0.20493212 & 0.10516436\\\\\n",
       "\t ENSG00000286122 & AC016074.2 & 0.2910534 & 0.15219803 & 0.52292130 & TRUE & 0.23816621 & 0.29801820 & 0.15686013 & 0.52634410\\\\\n",
       "\t ENSG00000286808 & AC092338.3 & 0.2327299 & 0.04828846 & 0.20748714 & TRUE & 0.11217661 & 0.23843750 & 0.04959753 & 0.20801061\\\\\n",
       "\t ENSG00000287151 & C2orf27A   & 0.1459729 & 0.04022681 & 0.27557730 & TRUE & 0.14564185 & 0.14961487 & 0.04163698 & 0.27829440\\\\\n",
       "\t ENSG00000287719 & AP001531.1 & 0.3656518 & 0.09504661 & 0.25993747 & TRUE & 0.13506884 & 0.37549420 & 0.09861702 & 0.26263260\\\\\n",
       "\t ENSG00000287966 & AL590062.1 & 0.1155860 & 0.03433579 & 0.29705840 & TRUE & 0.15762629 & 0.11851312 & 0.03542809 & 0.29893810\\\\\n",
       "\\end{tabular}\n"
      ],
      "text/markdown": [
       "\n",
       "A spec_tbl_df: 3384 × 10\n",
       "\n",
       "| gene_id &lt;chr&gt; | gene_name &lt;chr&gt; | mean &lt;dbl&gt; | std &lt;dbl&gt; | cv &lt;dbl&gt; | in_matrix &lt;lgl&gt; | gini &lt;dbl&gt; | clean_mean &lt;dbl&gt; | clean_std &lt;dbl&gt; | clean_cv &lt;dbl&gt; |\n",
       "|---|---|---|---|---|---|---|---|---|---|\n",
       "| ENSG00000000419 | DPM1    | 0.7850459 | 0.10545670 | 0.13433190 | TRUE | 0.07212226 | 0.8067765 | 0.10731252 | 0.13301395 |\n",
       "| ENSG00000001036 | FUCA2   | 0.8603362 | 0.10897151 | 0.12666154 | TRUE | 0.06777804 | 0.8833603 | 0.11090380 | 0.12554765 |\n",
       "| ENSG00000001497 | LAS1L   | 0.9034098 | 0.12070036 | 0.13360532 | TRUE | 0.07178739 | 0.9280114 | 0.12164642 | 0.13108289 |\n",
       "| ENSG00000001629 | ANKIB1  | 0.1606149 | 0.03796154 | 0.23635125 | TRUE | 0.12764200 | 0.1644727 | 0.03915699 | 0.23807594 |\n",
       "| ENSG00000001630 | CYP51A1 | 1.0960715 | 0.15919486 | 0.14524130 | TRUE | 0.07740526 | 1.1250014 | 0.16133223 | 0.14340624 |\n",
       "| ENSG00000002549 | LAP3    | 0.7295924 | 0.10051703 | 0.13777147 | TRUE | 0.07399670 | 0.7499226 | 0.10223719 | 0.13633030 |\n",
       "| ENSG00000002586 | CD99    | 1.4278524 | 0.16420257 | 0.11499968 | TRUE | 0.06137931 | 1.4668125 | 0.16711718 | 0.11393220 |\n",
       "| ENSG00000003402 | CFLAR   | 0.8407919 | 0.11504367 | 0.13682777 | TRUE | 0.07145646 | 0.8624691 | 0.11902251 | 0.13800205 |\n",
       "| ENSG00000003436 | TFPI    | 0.3138401 | 0.10325091 | 0.32899210 | TRUE | 0.15030165 | 0.3213279 | 0.10748815 | 0.33451230 |\n",
       "| ENSG00000004059 | ARF5    | 1.1714885 | 0.13522370 | 0.11542896 | TRUE | 0.06100454 | 1.2044604 | 0.13757995 | 0.11422538 |\n",
       "| ENSG00000004142 | POLDIP2 | 0.7956790 | 0.10735722 | 0.13492529 | TRUE | 0.07184855 | 0.8176255 | 0.10886439 | 0.13314700 |\n",
       "| ENSG00000004455 | AK2     | 2.6836967 | 0.28194278 | 0.10505762 | TRUE | 0.05473571 | 2.7570620 | 0.28253952 | 0.10247848 |\n",
       "| ENSG00000004478 | FKBP4   | 1.5647134 | 0.21182105 | 0.13537371 | TRUE | 0.07095491 | 1.6084449 | 0.21292324 | 0.13237832 |\n",
       "| ENSG00000004487 | KDM1A   | 1.9815102 | 0.22089669 | 0.11147896 | TRUE | 0.05798202 | 2.0347595 | 0.22302808 | 0.10960906 |\n",
       "| ENSG00000004534 | RBM6    | 0.8707592 | 0.10503603 | 0.12062579 | TRUE | 0.06439949 | 0.8924941 | 0.10707670 | 0.11997469 |\n",
       "| ENSG00000004779 | NDUFAB1 | 4.4099116 | 0.42786050 | 0.09702247 | TRUE | 0.05027764 | 4.5343950 | 0.42528433 | 0.09379075 |\n",
       "| ENSG00000004961 | HCCS    | 0.6630993 | 0.10090244 | 0.15216792 | TRUE | 0.08063644 | 0.6816931 | 0.10290189 | 0.15095046 |\n",
       "| ENSG00000005022 | SLC25A5 | 4.3111340 | 0.42917580 | 0.09955056 | TRUE | 0.05124012 | 4.4336950 | 0.42539644 | 0.09594626 |\n",
       "| ENSG00000005059 | MCUB    | 0.3382350 | 0.06644923 | 0.19645876 | TRUE | 0.10246377 | 0.3476468 | 0.06853771 | 0.19714752 |\n",
       "| ENSG00000005075 | POLR2J  | 1.4778224 | 0.16585515 | 0.11222942 | TRUE | 0.05872815 | 1.5185717 | 0.16943808 | 0.11157726 |\n",
       "| ENSG00000005187 | ACSM3   | 1.0725878 | 0.18405852 | 0.17160228 | TRUE | 0.08965508 | 1.0991690 | 0.18948737 | 0.17239147 |\n",
       "| ENSG00000005249 | PRKAR2B | 3.8514680 | 0.46784073 | 0.12147076 | TRUE | 0.06264056 | 3.9560366 | 0.46794683 | 0.11828678 |\n",
       "| ENSG00000005483 | KMT2E   | 0.8296340 | 0.10373199 | 0.12503344 | TRUE | 0.06599940 | 0.8495250 | 0.10698712 | 0.12593758 |\n",
       "| ENSG00000005486 | RHBDD2  | 0.1172702 | 0.03371963 | 0.28753780 | TRUE | 0.15388765 | 0.1203985 | 0.03497556 | 0.29049838 |\n",
       "| ENSG00000005700 | IBTK    | 0.4685331 | 0.07397345 | 0.15788308 | TRUE | 0.08515433 | 0.4809628 | 0.07519700 | 0.15634680 |\n",
       "| ENSG00000005801 | ZNF195  | 0.3170098 | 0.05793135 | 0.18274307 | TRUE | 0.09755255 | 0.3251416 | 0.05941095 | 0.18272331 |\n",
       "| ENSG00000005810 | MYCBP2  | 1.5593199 | 0.17492536 | 0.11218055 | TRUE | 0.05933033 | 1.5997210 | 0.17512760 | 0.10947384 |\n",
       "| ENSG00000005812 | FBXL3   | 0.2333746 | 0.04766882 | 0.20425877 | TRUE | 0.10975024 | 0.2393012 | 0.04922899 | 0.20571981 |\n",
       "| ENSG00000005893 | LAMP2   | 0.2929138 | 0.05589050 | 0.19080867 | TRUE | 0.10183667 | 0.3004461 | 0.05787613 | 0.19263400 |\n",
       "| ENSG00000006015 | REX1BD  | 1.1193630 | 0.13913348 | 0.12429702 | TRUE | 0.06641307 | 1.1487428 | 0.14083011 | 0.12259499 |\n",
       "| ⋮ | ⋮ | ⋮ | ⋮ | ⋮ | ⋮ | ⋮ | ⋮ | ⋮ | ⋮ |\n",
       "| ENSG00000274536 | AL034397.3 | 0.8277140 | 0.13898222 | 0.16791092 | TRUE | 0.08957493 | 0.84869796 | 0.14110630 | 0.16626209 |\n",
       "| ENSG00000274925 | ZKSCAN2-DT | 0.1571467 | 0.04440783 | 0.28258836 | TRUE | 0.13735631 | 0.16080340 | 0.04543741 | 0.28256500 |\n",
       "| ENSG00000274997 | HIST1H2AH  | 0.4837086 | 0.10924800 | 0.22585500 | TRUE | 0.12298292 | 0.49615630 | 0.11105032 | 0.22382125 |\n",
       "| ENSG00000275004 | ZNF280B    | 0.5585104 | 0.08306733 | 0.14873014 | TRUE | 0.07901125 | 0.57285416 | 0.08548901 | 0.14923346 |\n",
       "| ENSG00000275700 | AATF       | 1.1565088 | 0.14094928 | 0.12187480 | TRUE | 0.06452358 | 1.18850390 | 0.14342284 | 0.12067512 |\n",
       "| ENSG00000275713 | HIST1H2BH  | 0.2559747 | 0.07086494 | 0.27684352 | TRUE | 0.13906505 | 0.26013172 | 0.07295569 | 0.28045672 |\n",
       "| ENSG00000276900 | AC023157.3 | 0.1007593 | 0.04562856 | 0.45284697 | TRUE | 0.20404118 | 0.10231390 | 0.04726985 | 0.46200810 |\n",
       "| ENSG00000277791 | PSMB3      | 3.5990577 | 0.34331470 | 0.09539016 | TRUE | 0.04966149 | 3.70115950 | 0.34552297 | 0.09335533 |\n",
       "| ENSG00000277969 | AC006449.6 | 0.1365460 | 0.04731583 | 0.34651938 | TRUE | 0.15006956 | 0.13982524 | 0.04826176 | 0.34515770 |\n",
       "| ENSG00000278053 | DDX52      | 0.9571863 | 0.11830562 | 0.12359727 | TRUE | 0.06565183 | 0.98262435 | 0.12013127 | 0.12225554 |\n",
       "| ENSG00000278311 | GGNBP2     | 1.0337566 | 0.13018775 | 0.12593655 | TRUE | 0.06378178 | 1.06129440 | 0.13429853 | 0.12654220 |\n",
       "| ENSG00000278384 | AL354822.1 | 0.1872048 | 0.04246069 | 0.22681417 | TRUE | 0.12151441 | 0.19176388 | 0.04373312 | 0.22805713 |\n",
       "| ENSG00000278828 | HIST1H3H   | 0.2354017 | 0.07006408 | 0.29763630 | TRUE | 0.14211402 | 0.24066317 | 0.07290142 | 0.30291888 |\n",
       "| ENSG00000278845 | MRPL45     | 0.8780377 | 0.11387230 | 0.12968953 | TRUE | 0.06935250 | 0.90260000 | 0.11576160 | 0.12825349 |\n",
       "| ENSG00000278932 | CR381653.1 | 0.2098164 | 0.04941064 | 0.23549466 | TRUE | 0.11884321 | 0.21450640 | 0.05073100 | 0.23650110 |\n",
       "| ENSG00000279669 | AC079801.1 | 1.1204697 | 0.24543732 | 0.21904860 | TRUE | 0.10430672 | 1.15019170 | 0.25559694 | 0.22222117 |\n",
       "| ENSG00000280145 | CU638689.4 | 0.3010191 | 0.06292441 | 0.20903791 | TRUE | 0.10779712 | 0.30892453 | 0.06490871 | 0.21011186 |\n",
       "| ENSG00000280623 | PCAT14     | 0.4932286 | 0.13069560 | 0.26497975 | TRUE | 0.13966263 | 0.50612030 | 0.13437827 | 0.26550657 |\n",
       "| ENSG00000281344 | HELLPAR    | 0.4825214 | 0.09223273 | 0.19114743 | TRUE | 0.10066699 | 0.49451718 | 0.09494478 | 0.19199492 |\n",
       "| ENSG00000281398 | SNHG4      | 1.0067244 | 0.16935039 | 0.16821922 | TRUE | 0.08489569 | 1.03281430 | 0.17208107 | 0.16661376 |\n",
       "| ENSG00000282885 | AL627171.2 | 0.1211020 | 0.22446021 | 1.85348130 | TRUE | 0.43806011 | 0.07367369 | 0.09561884 | 1.29786960 |\n",
       "| ENSG00000283235 | AC139493.2 | 1.0162845 | 0.22049215 | 0.21695909 | TRUE | 0.10421372 | 1.04401720 | 0.22866870 | 0.21902771 |\n",
       "| ENSG00000285053 | TBCE       | 0.1191033 | 0.03326858 | 0.27932528 | TRUE | 0.14908400 | 0.12162735 | 0.03416780 | 0.28092200 |\n",
       "| ENSG00000285278 | TFAP2A-AS2 | 0.1018481 | 0.04751060 | 0.46648496 | TRUE | 0.17833378 | 0.10404120 | 0.04873581 | 0.46842793 |\n",
       "| ENSG00000285437 | POLR2J3    | 1.9019974 | 0.20084311 | 0.10559589 | TRUE | 0.05537344 | 1.94868420 | 0.20493212 | 0.10516436 |\n",
       "| ENSG00000286122 | AC016074.2 | 0.2910534 | 0.15219803 | 0.52292130 | TRUE | 0.23816621 | 0.29801820 | 0.15686013 | 0.52634410 |\n",
       "| ENSG00000286808 | AC092338.3 | 0.2327299 | 0.04828846 | 0.20748714 | TRUE | 0.11217661 | 0.23843750 | 0.04959753 | 0.20801061 |\n",
       "| ENSG00000287151 | C2orf27A   | 0.1459729 | 0.04022681 | 0.27557730 | TRUE | 0.14564185 | 0.14961487 | 0.04163698 | 0.27829440 |\n",
       "| ENSG00000287719 | AP001531.1 | 0.3656518 | 0.09504661 | 0.25993747 | TRUE | 0.13506884 | 0.37549420 | 0.09861702 | 0.26263260 |\n",
       "| ENSG00000287966 | AL590062.1 | 0.1155860 | 0.03433579 | 0.29705840 | TRUE | 0.15762629 | 0.11851312 | 0.03542809 | 0.29893810 |\n",
       "\n"
      ],
      "text/plain": [
       "     gene_id         gene_name  mean      std        cv         in_matrix\n",
       "1    ENSG00000000419 DPM1       0.7850459 0.10545670 0.13433190 TRUE     \n",
       "2    ENSG00000001036 FUCA2      0.8603362 0.10897151 0.12666154 TRUE     \n",
       "3    ENSG00000001497 LAS1L      0.9034098 0.12070036 0.13360532 TRUE     \n",
       "4    ENSG00000001629 ANKIB1     0.1606149 0.03796154 0.23635125 TRUE     \n",
       "5    ENSG00000001630 CYP51A1    1.0960715 0.15919486 0.14524130 TRUE     \n",
       "6    ENSG00000002549 LAP3       0.7295924 0.10051703 0.13777147 TRUE     \n",
       "7    ENSG00000002586 CD99       1.4278524 0.16420257 0.11499968 TRUE     \n",
       "8    ENSG00000003402 CFLAR      0.8407919 0.11504367 0.13682777 TRUE     \n",
       "9    ENSG00000003436 TFPI       0.3138401 0.10325091 0.32899210 TRUE     \n",
       "10   ENSG00000004059 ARF5       1.1714885 0.13522370 0.11542896 TRUE     \n",
       "11   ENSG00000004142 POLDIP2    0.7956790 0.10735722 0.13492529 TRUE     \n",
       "12   ENSG00000004455 AK2        2.6836967 0.28194278 0.10505762 TRUE     \n",
       "13   ENSG00000004478 FKBP4      1.5647134 0.21182105 0.13537371 TRUE     \n",
       "14   ENSG00000004487 KDM1A      1.9815102 0.22089669 0.11147896 TRUE     \n",
       "15   ENSG00000004534 RBM6       0.8707592 0.10503603 0.12062579 TRUE     \n",
       "16   ENSG00000004779 NDUFAB1    4.4099116 0.42786050 0.09702247 TRUE     \n",
       "17   ENSG00000004961 HCCS       0.6630993 0.10090244 0.15216792 TRUE     \n",
       "18   ENSG00000005022 SLC25A5    4.3111340 0.42917580 0.09955056 TRUE     \n",
       "19   ENSG00000005059 MCUB       0.3382350 0.06644923 0.19645876 TRUE     \n",
       "20   ENSG00000005075 POLR2J     1.4778224 0.16585515 0.11222942 TRUE     \n",
       "21   ENSG00000005187 ACSM3      1.0725878 0.18405852 0.17160228 TRUE     \n",
       "22   ENSG00000005249 PRKAR2B    3.8514680 0.46784073 0.12147076 TRUE     \n",
       "23   ENSG00000005483 KMT2E      0.8296340 0.10373199 0.12503344 TRUE     \n",
       "24   ENSG00000005486 RHBDD2     0.1172702 0.03371963 0.28753780 TRUE     \n",
       "25   ENSG00000005700 IBTK       0.4685331 0.07397345 0.15788308 TRUE     \n",
       "26   ENSG00000005801 ZNF195     0.3170098 0.05793135 0.18274307 TRUE     \n",
       "27   ENSG00000005810 MYCBP2     1.5593199 0.17492536 0.11218055 TRUE     \n",
       "28   ENSG00000005812 FBXL3      0.2333746 0.04766882 0.20425877 TRUE     \n",
       "29   ENSG00000005893 LAMP2      0.2929138 0.05589050 0.19080867 TRUE     \n",
       "30   ENSG00000006015 REX1BD     1.1193630 0.13913348 0.12429702 TRUE     \n",
       "<U+22EE>    <U+22EE>        <U+22EE>   <U+22EE>  <U+22EE>   <U+22EE>   <U+22EE> \n",
       "3355 ENSG00000274536 AL034397.3 0.8277140 0.13898222 0.16791092 TRUE     \n",
       "3356 ENSG00000274925 ZKSCAN2-DT 0.1571467 0.04440783 0.28258836 TRUE     \n",
       "3357 ENSG00000274997 HIST1H2AH  0.4837086 0.10924800 0.22585500 TRUE     \n",
       "3358 ENSG00000275004 ZNF280B    0.5585104 0.08306733 0.14873014 TRUE     \n",
       "3359 ENSG00000275700 AATF       1.1565088 0.14094928 0.12187480 TRUE     \n",
       "3360 ENSG00000275713 HIST1H2BH  0.2559747 0.07086494 0.27684352 TRUE     \n",
       "3361 ENSG00000276900 AC023157.3 0.1007593 0.04562856 0.45284697 TRUE     \n",
       "3362 ENSG00000277791 PSMB3      3.5990577 0.34331470 0.09539016 TRUE     \n",
       "3363 ENSG00000277969 AC006449.6 0.1365460 0.04731583 0.34651938 TRUE     \n",
       "3364 ENSG00000278053 DDX52      0.9571863 0.11830562 0.12359727 TRUE     \n",
       "3365 ENSG00000278311 GGNBP2     1.0337566 0.13018775 0.12593655 TRUE     \n",
       "3366 ENSG00000278384 AL354822.1 0.1872048 0.04246069 0.22681417 TRUE     \n",
       "3367 ENSG00000278828 HIST1H3H   0.2354017 0.07006408 0.29763630 TRUE     \n",
       "3368 ENSG00000278845 MRPL45     0.8780377 0.11387230 0.12968953 TRUE     \n",
       "3369 ENSG00000278932 CR381653.1 0.2098164 0.04941064 0.23549466 TRUE     \n",
       "3370 ENSG00000279669 AC079801.1 1.1204697 0.24543732 0.21904860 TRUE     \n",
       "3371 ENSG00000280145 CU638689.4 0.3010191 0.06292441 0.20903791 TRUE     \n",
       "3372 ENSG00000280623 PCAT14     0.4932286 0.13069560 0.26497975 TRUE     \n",
       "3373 ENSG00000281344 HELLPAR    0.4825214 0.09223273 0.19114743 TRUE     \n",
       "3374 ENSG00000281398 SNHG4      1.0067244 0.16935039 0.16821922 TRUE     \n",
       "3375 ENSG00000282885 AL627171.2 0.1211020 0.22446021 1.85348130 TRUE     \n",
       "3376 ENSG00000283235 AC139493.2 1.0162845 0.22049215 0.21695909 TRUE     \n",
       "3377 ENSG00000285053 TBCE       0.1191033 0.03326858 0.27932528 TRUE     \n",
       "3378 ENSG00000285278 TFAP2A-AS2 0.1018481 0.04751060 0.46648496 TRUE     \n",
       "3379 ENSG00000285437 POLR2J3    1.9019974 0.20084311 0.10559589 TRUE     \n",
       "3380 ENSG00000286122 AC016074.2 0.2910534 0.15219803 0.52292130 TRUE     \n",
       "3381 ENSG00000286808 AC092338.3 0.2327299 0.04828846 0.20748714 TRUE     \n",
       "3382 ENSG00000287151 C2orf27A   0.1459729 0.04022681 0.27557730 TRUE     \n",
       "3383 ENSG00000287719 AP001531.1 0.3656518 0.09504661 0.25993747 TRUE     \n",
       "3384 ENSG00000287966 AL590062.1 0.1155860 0.03433579 0.29705840 TRUE     \n",
       "     gini       clean_mean clean_std  clean_cv  \n",
       "1    0.07212226 0.8067765  0.10731252 0.13301395\n",
       "2    0.06777804 0.8833603  0.11090380 0.12554765\n",
       "3    0.07178739 0.9280114  0.12164642 0.13108289\n",
       "4    0.12764200 0.1644727  0.03915699 0.23807594\n",
       "5    0.07740526 1.1250014  0.16133223 0.14340624\n",
       "6    0.07399670 0.7499226  0.10223719 0.13633030\n",
       "7    0.06137931 1.4668125  0.16711718 0.11393220\n",
       "8    0.07145646 0.8624691  0.11902251 0.13800205\n",
       "9    0.15030165 0.3213279  0.10748815 0.33451230\n",
       "10   0.06100454 1.2044604  0.13757995 0.11422538\n",
       "11   0.07184855 0.8176255  0.10886439 0.13314700\n",
       "12   0.05473571 2.7570620  0.28253952 0.10247848\n",
       "13   0.07095491 1.6084449  0.21292324 0.13237832\n",
       "14   0.05798202 2.0347595  0.22302808 0.10960906\n",
       "15   0.06439949 0.8924941  0.10707670 0.11997469\n",
       "16   0.05027764 4.5343950  0.42528433 0.09379075\n",
       "17   0.08063644 0.6816931  0.10290189 0.15095046\n",
       "18   0.05124012 4.4336950  0.42539644 0.09594626\n",
       "19   0.10246377 0.3476468  0.06853771 0.19714752\n",
       "20   0.05872815 1.5185717  0.16943808 0.11157726\n",
       "21   0.08965508 1.0991690  0.18948737 0.17239147\n",
       "22   0.06264056 3.9560366  0.46794683 0.11828678\n",
       "23   0.06599940 0.8495250  0.10698712 0.12593758\n",
       "24   0.15388765 0.1203985  0.03497556 0.29049838\n",
       "25   0.08515433 0.4809628  0.07519700 0.15634680\n",
       "26   0.09755255 0.3251416  0.05941095 0.18272331\n",
       "27   0.05933033 1.5997210  0.17512760 0.10947384\n",
       "28   0.10975024 0.2393012  0.04922899 0.20571981\n",
       "29   0.10183667 0.3004461  0.05787613 0.19263400\n",
       "30   0.06641307 1.1487428  0.14083011 0.12259499\n",
       "<U+22EE>    <U+22EE>   <U+22EE>   <U+22EE>   <U+22EE>  \n",
       "3355 0.08957493 0.84869796 0.14110630 0.16626209\n",
       "3356 0.13735631 0.16080340 0.04543741 0.28256500\n",
       "3357 0.12298292 0.49615630 0.11105032 0.22382125\n",
       "3358 0.07901125 0.57285416 0.08548901 0.14923346\n",
       "3359 0.06452358 1.18850390 0.14342284 0.12067512\n",
       "3360 0.13906505 0.26013172 0.07295569 0.28045672\n",
       "3361 0.20404118 0.10231390 0.04726985 0.46200810\n",
       "3362 0.04966149 3.70115950 0.34552297 0.09335533\n",
       "3363 0.15006956 0.13982524 0.04826176 0.34515770\n",
       "3364 0.06565183 0.98262435 0.12013127 0.12225554\n",
       "3365 0.06378178 1.06129440 0.13429853 0.12654220\n",
       "3366 0.12151441 0.19176388 0.04373312 0.22805713\n",
       "3367 0.14211402 0.24066317 0.07290142 0.30291888\n",
       "3368 0.06935250 0.90260000 0.11576160 0.12825349\n",
       "3369 0.11884321 0.21450640 0.05073100 0.23650110\n",
       "3370 0.10430672 1.15019170 0.25559694 0.22222117\n",
       "3371 0.10779712 0.30892453 0.06490871 0.21011186\n",
       "3372 0.13966263 0.50612030 0.13437827 0.26550657\n",
       "3373 0.10066699 0.49451718 0.09494478 0.19199492\n",
       "3374 0.08489569 1.03281430 0.17208107 0.16661376\n",
       "3375 0.43806011 0.07367369 0.09561884 1.29786960\n",
       "3376 0.10421372 1.04401720 0.22866870 0.21902771\n",
       "3377 0.14908400 0.12162735 0.03416780 0.28092200\n",
       "3378 0.17833378 0.10404120 0.04873581 0.46842793\n",
       "3379 0.05537344 1.94868420 0.20493212 0.10516436\n",
       "3380 0.23816621 0.29801820 0.15686013 0.52634410\n",
       "3381 0.11217661 0.23843750 0.04959753 0.20801061\n",
       "3382 0.14564185 0.14961487 0.04163698 0.27829440\n",
       "3383 0.13506884 0.37549420 0.09861702 0.26263260\n",
       "3384 0.15762629 0.11851312 0.03542809 0.29893810"
      ]
     },
     "metadata": {},
     "output_type": "display_data"
    }
   ],
   "source": [
    "var"
   ]
  },
  {
   "cell_type": "code",
   "execution_count": null,
   "metadata": {
    "vscode": {
     "languageId": "r"
    }
   },
   "outputs": [],
   "source": []
  }
 ],
 "metadata": {
  "kernelspec": {
   "display_name": "R",
   "language": "R",
   "name": "ir"
  },
  "language_info": {
   "codemirror_mode": "r",
   "file_extension": ".r",
   "mimetype": "text/x-r-source",
   "name": "R",
   "pygments_lexer": "r",
   "version": "4.2.2"
  },
  "orig_nbformat": 4
 },
 "nbformat": 4,
 "nbformat_minor": 2
}
